{
  "nbformat": 4,
  "nbformat_minor": 0,
  "metadata": {
    "colab": {
      "name": "12_피마인디언_코랩.ipynb",
      "provenance": []
    },
    "kernelspec": {
      "name": "python3",
      "display_name": "Python 3"
    },
    "language_info": {
      "name": "python"
    }
  },
  "cells": [
    {
      "cell_type": "markdown",
      "metadata": {
        "id": "g5tvLX9xJATQ"
      },
      "source": [
        "# 피마 인디언 당뇨병 예측"
      ]
    },
    {
      "cell_type": "code",
      "metadata": {
        "colab": {
          "resources": {
            "http://localhost:8080/nbextensions/google.colab/files.js": {
              "data": "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",
              "ok": true,
              "headers": [
                [
                  "content-type",
                  "application/javascript"
                ]
              ],
              "status": 200,
              "status_text": ""
            }
          },
          "base_uri": "https://localhost:8080/",
          "height": 76
        },
        "id": "bOeqiyeQ5lRm",
        "outputId": "f529ac45-5b73-4318-915d-fb7ecc19f3a6"
      },
      "source": [
        "from google.colab import files\n",
        "uploaded = files.upload()\n",
        "filename = list(uploaded.keys())[0]"
      ],
      "execution_count": 8,
      "outputs": [
        {
          "output_type": "display_data",
          "data": {
            "text/html": [
              "\n",
              "     <input type=\"file\" id=\"files-e56094d2-552d-40e8-b133-826b59db133e\" name=\"files[]\" multiple disabled\n",
              "        style=\"border:none\" />\n",
              "     <output id=\"result-e56094d2-552d-40e8-b133-826b59db133e\">\n",
              "      Upload widget is only available when the cell has been executed in the\n",
              "      current browser session. Please rerun this cell to enable.\n",
              "      </output>\n",
              "      <script src=\"/nbextensions/google.colab/files.js\"></script> "
            ],
            "text/plain": [
              "<IPython.core.display.HTML object>"
            ]
          },
          "metadata": {
            "tags": []
          }
        },
        {
          "output_type": "stream",
          "text": [
            "Saving pima-indians-diabetes.csv to pima-indians-diabetes.csv\n"
          ],
          "name": "stdout"
        }
      ]
    },
    {
      "cell_type": "code",
      "metadata": {
        "colab": {
          "base_uri": "https://localhost:8080/",
          "height": 35
        },
        "id": "X-ALtanf51K1",
        "outputId": "e508b394-aa60-4307-c24e-87227953d601"
      },
      "source": [
        "filename"
      ],
      "execution_count": 9,
      "outputs": [
        {
          "output_type": "execute_result",
          "data": {
            "application/vnd.google.colaboratory.intrinsic+json": {
              "type": "string"
            },
            "text/plain": [
              "'pima-indians-diabetes.csv'"
            ]
          },
          "metadata": {
            "tags": []
          },
          "execution_count": 9
        }
      ]
    },
    {
      "cell_type": "code",
      "metadata": {
        "colab": {
          "base_uri": "https://localhost:8080/",
          "height": 205
        },
        "id": "nzZnsEqZ59GN",
        "outputId": "f7f3be15-5bf8-43cf-fb3e-24eb3e41a3bb"
      },
      "source": [
        "import pandas as pd\n",
        "df = pd.read_csv(filename, header=None)\n",
        "df.head()"
      ],
      "execution_count": 10,
      "outputs": [
        {
          "output_type": "execute_result",
          "data": {
            "text/html": [
              "<div>\n",
              "<style scoped>\n",
              "    .dataframe tbody tr th:only-of-type {\n",
              "        vertical-align: middle;\n",
              "    }\n",
              "\n",
              "    .dataframe tbody tr th {\n",
              "        vertical-align: top;\n",
              "    }\n",
              "\n",
              "    .dataframe thead th {\n",
              "        text-align: right;\n",
              "    }\n",
              "</style>\n",
              "<table border=\"1\" class=\"dataframe\">\n",
              "  <thead>\n",
              "    <tr style=\"text-align: right;\">\n",
              "      <th></th>\n",
              "      <th>0</th>\n",
              "      <th>1</th>\n",
              "      <th>2</th>\n",
              "      <th>3</th>\n",
              "      <th>4</th>\n",
              "      <th>5</th>\n",
              "      <th>6</th>\n",
              "      <th>7</th>\n",
              "      <th>8</th>\n",
              "    </tr>\n",
              "  </thead>\n",
              "  <tbody>\n",
              "    <tr>\n",
              "      <th>0</th>\n",
              "      <td>6</td>\n",
              "      <td>148</td>\n",
              "      <td>72</td>\n",
              "      <td>35</td>\n",
              "      <td>0</td>\n",
              "      <td>33.6</td>\n",
              "      <td>0.627</td>\n",
              "      <td>50</td>\n",
              "      <td>1</td>\n",
              "    </tr>\n",
              "    <tr>\n",
              "      <th>1</th>\n",
              "      <td>1</td>\n",
              "      <td>85</td>\n",
              "      <td>66</td>\n",
              "      <td>29</td>\n",
              "      <td>0</td>\n",
              "      <td>26.6</td>\n",
              "      <td>0.351</td>\n",
              "      <td>31</td>\n",
              "      <td>0</td>\n",
              "    </tr>\n",
              "    <tr>\n",
              "      <th>2</th>\n",
              "      <td>8</td>\n",
              "      <td>183</td>\n",
              "      <td>64</td>\n",
              "      <td>0</td>\n",
              "      <td>0</td>\n",
              "      <td>23.3</td>\n",
              "      <td>0.672</td>\n",
              "      <td>32</td>\n",
              "      <td>1</td>\n",
              "    </tr>\n",
              "    <tr>\n",
              "      <th>3</th>\n",
              "      <td>1</td>\n",
              "      <td>89</td>\n",
              "      <td>66</td>\n",
              "      <td>23</td>\n",
              "      <td>94</td>\n",
              "      <td>28.1</td>\n",
              "      <td>0.167</td>\n",
              "      <td>21</td>\n",
              "      <td>0</td>\n",
              "    </tr>\n",
              "    <tr>\n",
              "      <th>4</th>\n",
              "      <td>0</td>\n",
              "      <td>137</td>\n",
              "      <td>40</td>\n",
              "      <td>35</td>\n",
              "      <td>168</td>\n",
              "      <td>43.1</td>\n",
              "      <td>2.288</td>\n",
              "      <td>33</td>\n",
              "      <td>1</td>\n",
              "    </tr>\n",
              "  </tbody>\n",
              "</table>\n",
              "</div>"
            ],
            "text/plain": [
              "   0    1   2   3    4     5      6   7  8\n",
              "0  6  148  72  35    0  33.6  0.627  50  1\n",
              "1  1   85  66  29    0  26.6  0.351  31  0\n",
              "2  8  183  64   0    0  23.3  0.672  32  1\n",
              "3  1   89  66  23   94  28.1  0.167  21  0\n",
              "4  0  137  40  35  168  43.1  2.288  33  1"
            ]
          },
          "metadata": {
            "tags": []
          },
          "execution_count": 10
        }
      ]
    },
    {
      "cell_type": "code",
      "metadata": {
        "colab": {
          "base_uri": "https://localhost:8080/"
        },
        "id": "xsDI1n1x6gW7",
        "outputId": "10a3b090-479e-40e0-fdf2-dd7ad57b4d10"
      },
      "source": [
        "df.isnull().sum().sum()"
      ],
      "execution_count": 11,
      "outputs": [
        {
          "output_type": "execute_result",
          "data": {
            "text/plain": [
              "0"
            ]
          },
          "metadata": {
            "tags": []
          },
          "execution_count": 11
        }
      ]
    },
    {
      "cell_type": "code",
      "metadata": {
        "id": "xqNBjcJZ6i87"
      },
      "source": [
        "import numpy as np\n",
        "import tensorflow as tf\n",
        "seed = 2021\n",
        "np.random.seed(seed)\n",
        "tf.random.set_seed(seed)"
      ],
      "execution_count": 12,
      "outputs": []
    },
    {
      "cell_type": "markdown",
      "metadata": {
        "id": "cqDQC7_4KzU-"
      },
      "source": [
        "### 데이터 전처리 및 트레인/테스트 분할"
      ]
    },
    {
      "cell_type": "code",
      "metadata": {
        "id": "SWCMKmiMK4N-"
      },
      "source": [
        "from sklearn.preprocessing import MinMaxScaler\n",
        "from sklearn.model_selection import train_test_split"
      ],
      "execution_count": 13,
      "outputs": []
    },
    {
      "cell_type": "code",
      "metadata": {
        "id": "-Up6Q3fALJHf"
      },
      "source": [
        "scaler = MinMaxScaler()\n",
        "X_scaled = scaler.fit_transform(df.iloc[:,:-1].values)"
      ],
      "execution_count": 14,
      "outputs": []
    },
    {
      "cell_type": "code",
      "metadata": {
        "colab": {
          "base_uri": "https://localhost:8080/"
        },
        "id": "w_7eFeQVLdlH",
        "outputId": "ef504cc4-8899-483d-e6a0-0aa1e117d3bf"
      },
      "source": [
        "X_train, X_test, y_train, y_test = train_test_split(\n",
        "    X_scaled, df.iloc[:,-1].values, \n",
        "    stratify=df.iloc[:,-1].values, random_state=seed\n",
        ")\n",
        "X_train.shape, X_test.shape, y_train.shape, y_test.shape"
      ],
      "execution_count": 15,
      "outputs": [
        {
          "output_type": "execute_result",
          "data": {
            "text/plain": [
              "((576, 8), (192, 8), (576,), (192,))"
            ]
          },
          "metadata": {
            "tags": []
          },
          "execution_count": 15
        }
      ]
    },
    {
      "cell_type": "markdown",
      "metadata": {
        "id": "raW3hZRuL-1P"
      },
      "source": [
        "### 모델 정의/설정/학습/평가"
      ]
    },
    {
      "cell_type": "code",
      "metadata": {
        "id": "2-RNAQBIL56y"
      },
      "source": [
        "from tensorflow.keras.models import Sequential\n",
        "from tensorflow.keras.layers import Dense"
      ],
      "execution_count": 16,
      "outputs": []
    },
    {
      "cell_type": "code",
      "metadata": {
        "colab": {
          "base_uri": "https://localhost:8080/"
        },
        "id": "GHMNrtO7PBKg",
        "outputId": "5a92ddc2-09df-4f13-98ab-18c68d51cbcc"
      },
      "source": [
        "model = Sequential()\n",
        "model.add(Dense(12, input_dim=8, activation='relu'))\n",
        "model.add(Dense(8, activation='relu'))\n",
        "model.add(Dense(1, activation='sigmoid'))\n",
        "model.summary()"
      ],
      "execution_count": 17,
      "outputs": [
        {
          "output_type": "stream",
          "text": [
            "Model: \"sequential\"\n",
            "_________________________________________________________________\n",
            "Layer (type)                 Output Shape              Param #   \n",
            "=================================================================\n",
            "dense (Dense)                (None, 12)                108       \n",
            "_________________________________________________________________\n",
            "dense_1 (Dense)              (None, 8)                 104       \n",
            "_________________________________________________________________\n",
            "dense_2 (Dense)              (None, 1)                 9         \n",
            "=================================================================\n",
            "Total params: 221\n",
            "Trainable params: 221\n",
            "Non-trainable params: 0\n",
            "_________________________________________________________________\n"
          ],
          "name": "stdout"
        }
      ]
    },
    {
      "cell_type": "code",
      "metadata": {
        "id": "QzQzotPnPVLz"
      },
      "source": [
        "model.compile(\n",
        "    optimizer='adam', loss='binary_crossentropy', metrics=['accuracy']\n",
        ")"
      ],
      "execution_count": 18,
      "outputs": []
    },
    {
      "cell_type": "code",
      "metadata": {
        "colab": {
          "base_uri": "https://localhost:8080/"
        },
        "id": "wmpY0UBaPoBn",
        "outputId": "741cf48a-4e3f-4521-b12b-c6dda7f59267"
      },
      "source": [
        "history = model.fit(\n",
        "    X_train, y_train, validation_split=0.2,\n",
        "    epochs=200, batch_size=50, verbose=2\n",
        ")"
      ],
      "execution_count": 19,
      "outputs": [
        {
          "output_type": "stream",
          "text": [
            "Epoch 1/200\n",
            "10/10 - 1s - loss: 0.6948 - accuracy: 0.4739 - val_loss: 0.6941 - val_accuracy: 0.5776\n",
            "Epoch 2/200\n",
            "10/10 - 0s - loss: 0.6867 - accuracy: 0.6630 - val_loss: 0.6903 - val_accuracy: 0.5948\n",
            "Epoch 3/200\n",
            "10/10 - 0s - loss: 0.6800 - accuracy: 0.6674 - val_loss: 0.6887 - val_accuracy: 0.5862\n",
            "Epoch 4/200\n",
            "10/10 - 0s - loss: 0.6762 - accuracy: 0.6674 - val_loss: 0.6877 - val_accuracy: 0.5862\n",
            "Epoch 5/200\n",
            "10/10 - 0s - loss: 0.6725 - accuracy: 0.6674 - val_loss: 0.6871 - val_accuracy: 0.5862\n",
            "Epoch 6/200\n",
            "10/10 - 0s - loss: 0.6699 - accuracy: 0.6674 - val_loss: 0.6867 - val_accuracy: 0.5862\n",
            "Epoch 7/200\n",
            "10/10 - 0s - loss: 0.6671 - accuracy: 0.6674 - val_loss: 0.6865 - val_accuracy: 0.5862\n",
            "Epoch 8/200\n",
            "10/10 - 0s - loss: 0.6651 - accuracy: 0.6674 - val_loss: 0.6866 - val_accuracy: 0.5862\n",
            "Epoch 9/200\n",
            "10/10 - 0s - loss: 0.6627 - accuracy: 0.6674 - val_loss: 0.6868 - val_accuracy: 0.5862\n",
            "Epoch 10/200\n",
            "10/10 - 0s - loss: 0.6606 - accuracy: 0.6674 - val_loss: 0.6869 - val_accuracy: 0.5862\n",
            "Epoch 11/200\n",
            "10/10 - 0s - loss: 0.6592 - accuracy: 0.6674 - val_loss: 0.6874 - val_accuracy: 0.5862\n",
            "Epoch 12/200\n",
            "10/10 - 0s - loss: 0.6572 - accuracy: 0.6674 - val_loss: 0.6881 - val_accuracy: 0.5862\n",
            "Epoch 13/200\n",
            "10/10 - 0s - loss: 0.6554 - accuracy: 0.6674 - val_loss: 0.6888 - val_accuracy: 0.5862\n",
            "Epoch 14/200\n",
            "10/10 - 0s - loss: 0.6541 - accuracy: 0.6674 - val_loss: 0.6896 - val_accuracy: 0.5862\n",
            "Epoch 15/200\n",
            "10/10 - 0s - loss: 0.6531 - accuracy: 0.6674 - val_loss: 0.6908 - val_accuracy: 0.5862\n",
            "Epoch 16/200\n",
            "10/10 - 0s - loss: 0.6519 - accuracy: 0.6674 - val_loss: 0.6912 - val_accuracy: 0.5862\n",
            "Epoch 17/200\n",
            "10/10 - 0s - loss: 0.6511 - accuracy: 0.6674 - val_loss: 0.6913 - val_accuracy: 0.5862\n",
            "Epoch 18/200\n",
            "10/10 - 0s - loss: 0.6502 - accuracy: 0.6674 - val_loss: 0.6906 - val_accuracy: 0.5862\n",
            "Epoch 19/200\n",
            "10/10 - 0s - loss: 0.6495 - accuracy: 0.6674 - val_loss: 0.6903 - val_accuracy: 0.5862\n",
            "Epoch 20/200\n",
            "10/10 - 0s - loss: 0.6488 - accuracy: 0.6674 - val_loss: 0.6908 - val_accuracy: 0.5862\n",
            "Epoch 21/200\n",
            "10/10 - 0s - loss: 0.6477 - accuracy: 0.6674 - val_loss: 0.6904 - val_accuracy: 0.5862\n",
            "Epoch 22/200\n",
            "10/10 - 0s - loss: 0.6472 - accuracy: 0.6674 - val_loss: 0.6909 - val_accuracy: 0.5862\n",
            "Epoch 23/200\n",
            "10/10 - 0s - loss: 0.6460 - accuracy: 0.6674 - val_loss: 0.6901 - val_accuracy: 0.5862\n",
            "Epoch 24/200\n",
            "10/10 - 0s - loss: 0.6451 - accuracy: 0.6674 - val_loss: 0.6900 - val_accuracy: 0.5862\n",
            "Epoch 25/200\n",
            "10/10 - 0s - loss: 0.6444 - accuracy: 0.6674 - val_loss: 0.6902 - val_accuracy: 0.5862\n",
            "Epoch 26/200\n",
            "10/10 - 0s - loss: 0.6432 - accuracy: 0.6674 - val_loss: 0.6894 - val_accuracy: 0.5862\n",
            "Epoch 27/200\n",
            "10/10 - 0s - loss: 0.6424 - accuracy: 0.6674 - val_loss: 0.6877 - val_accuracy: 0.5862\n",
            "Epoch 28/200\n",
            "10/10 - 0s - loss: 0.6411 - accuracy: 0.6674 - val_loss: 0.6872 - val_accuracy: 0.5862\n",
            "Epoch 29/200\n",
            "10/10 - 0s - loss: 0.6401 - accuracy: 0.6674 - val_loss: 0.6871 - val_accuracy: 0.5862\n",
            "Epoch 30/200\n",
            "10/10 - 0s - loss: 0.6389 - accuracy: 0.6674 - val_loss: 0.6855 - val_accuracy: 0.5862\n",
            "Epoch 31/200\n",
            "10/10 - 0s - loss: 0.6375 - accuracy: 0.6674 - val_loss: 0.6829 - val_accuracy: 0.5862\n",
            "Epoch 32/200\n",
            "10/10 - 0s - loss: 0.6360 - accuracy: 0.6674 - val_loss: 0.6786 - val_accuracy: 0.5862\n",
            "Epoch 33/200\n",
            "10/10 - 0s - loss: 0.6343 - accuracy: 0.6674 - val_loss: 0.6758 - val_accuracy: 0.5862\n",
            "Epoch 34/200\n",
            "10/10 - 0s - loss: 0.6325 - accuracy: 0.6674 - val_loss: 0.6720 - val_accuracy: 0.5862\n",
            "Epoch 35/200\n",
            "10/10 - 0s - loss: 0.6309 - accuracy: 0.6674 - val_loss: 0.6696 - val_accuracy: 0.5862\n",
            "Epoch 36/200\n",
            "10/10 - 0s - loss: 0.6286 - accuracy: 0.6674 - val_loss: 0.6687 - val_accuracy: 0.5862\n",
            "Epoch 37/200\n",
            "10/10 - 0s - loss: 0.6264 - accuracy: 0.6674 - val_loss: 0.6681 - val_accuracy: 0.5862\n",
            "Epoch 38/200\n",
            "10/10 - 0s - loss: 0.6248 - accuracy: 0.6674 - val_loss: 0.6671 - val_accuracy: 0.5862\n",
            "Epoch 39/200\n",
            "10/10 - 0s - loss: 0.6227 - accuracy: 0.6674 - val_loss: 0.6610 - val_accuracy: 0.5862\n",
            "Epoch 40/200\n",
            "10/10 - 0s - loss: 0.6204 - accuracy: 0.6674 - val_loss: 0.6607 - val_accuracy: 0.5862\n",
            "Epoch 41/200\n",
            "10/10 - 0s - loss: 0.6183 - accuracy: 0.6674 - val_loss: 0.6579 - val_accuracy: 0.5862\n",
            "Epoch 42/200\n",
            "10/10 - 0s - loss: 0.6161 - accuracy: 0.6674 - val_loss: 0.6542 - val_accuracy: 0.5862\n",
            "Epoch 43/200\n",
            "10/10 - 0s - loss: 0.6139 - accuracy: 0.6674 - val_loss: 0.6522 - val_accuracy: 0.5862\n",
            "Epoch 44/200\n",
            "10/10 - 0s - loss: 0.6118 - accuracy: 0.6674 - val_loss: 0.6507 - val_accuracy: 0.5862\n",
            "Epoch 45/200\n",
            "10/10 - 0s - loss: 0.6095 - accuracy: 0.6674 - val_loss: 0.6489 - val_accuracy: 0.5862\n",
            "Epoch 46/200\n",
            "10/10 - 0s - loss: 0.6075 - accuracy: 0.6696 - val_loss: 0.6460 - val_accuracy: 0.5862\n",
            "Epoch 47/200\n",
            "10/10 - 0s - loss: 0.6055 - accuracy: 0.6696 - val_loss: 0.6447 - val_accuracy: 0.5862\n",
            "Epoch 48/200\n",
            "10/10 - 0s - loss: 0.6031 - accuracy: 0.6696 - val_loss: 0.6409 - val_accuracy: 0.5948\n",
            "Epoch 49/200\n",
            "10/10 - 0s - loss: 0.6008 - accuracy: 0.6696 - val_loss: 0.6386 - val_accuracy: 0.5948\n",
            "Epoch 50/200\n",
            "10/10 - 0s - loss: 0.5983 - accuracy: 0.6783 - val_loss: 0.6334 - val_accuracy: 0.6034\n",
            "Epoch 51/200\n",
            "10/10 - 0s - loss: 0.5971 - accuracy: 0.6826 - val_loss: 0.6254 - val_accuracy: 0.6034\n",
            "Epoch 52/200\n",
            "10/10 - 0s - loss: 0.5939 - accuracy: 0.6804 - val_loss: 0.6254 - val_accuracy: 0.6121\n",
            "Epoch 53/200\n",
            "10/10 - 0s - loss: 0.5911 - accuracy: 0.6826 - val_loss: 0.6249 - val_accuracy: 0.6121\n",
            "Epoch 54/200\n",
            "10/10 - 0s - loss: 0.5892 - accuracy: 0.6826 - val_loss: 0.6205 - val_accuracy: 0.6034\n",
            "Epoch 55/200\n",
            "10/10 - 0s - loss: 0.5873 - accuracy: 0.6826 - val_loss: 0.6151 - val_accuracy: 0.6207\n",
            "Epoch 56/200\n",
            "10/10 - 0s - loss: 0.5847 - accuracy: 0.6848 - val_loss: 0.6144 - val_accuracy: 0.6207\n",
            "Epoch 57/200\n",
            "10/10 - 0s - loss: 0.5821 - accuracy: 0.6848 - val_loss: 0.6122 - val_accuracy: 0.6207\n",
            "Epoch 58/200\n",
            "10/10 - 0s - loss: 0.5800 - accuracy: 0.6913 - val_loss: 0.6071 - val_accuracy: 0.6121\n",
            "Epoch 59/200\n",
            "10/10 - 0s - loss: 0.5780 - accuracy: 0.7000 - val_loss: 0.6036 - val_accuracy: 0.6121\n",
            "Epoch 60/200\n",
            "10/10 - 0s - loss: 0.5758 - accuracy: 0.7130 - val_loss: 0.6015 - val_accuracy: 0.6293\n",
            "Epoch 61/200\n",
            "10/10 - 0s - loss: 0.5737 - accuracy: 0.7152 - val_loss: 0.5979 - val_accuracy: 0.6379\n",
            "Epoch 62/200\n",
            "10/10 - 0s - loss: 0.5723 - accuracy: 0.7152 - val_loss: 0.5959 - val_accuracy: 0.6466\n",
            "Epoch 63/200\n",
            "10/10 - 0s - loss: 0.5699 - accuracy: 0.7152 - val_loss: 0.5942 - val_accuracy: 0.6466\n",
            "Epoch 64/200\n",
            "10/10 - 0s - loss: 0.5679 - accuracy: 0.7152 - val_loss: 0.5937 - val_accuracy: 0.6379\n",
            "Epoch 65/200\n",
            "10/10 - 0s - loss: 0.5673 - accuracy: 0.7043 - val_loss: 0.5972 - val_accuracy: 0.6121\n",
            "Epoch 66/200\n",
            "10/10 - 0s - loss: 0.5646 - accuracy: 0.7087 - val_loss: 0.5900 - val_accuracy: 0.6466\n",
            "Epoch 67/200\n",
            "10/10 - 0s - loss: 0.5621 - accuracy: 0.7174 - val_loss: 0.5890 - val_accuracy: 0.6379\n",
            "Epoch 68/200\n",
            "10/10 - 0s - loss: 0.5605 - accuracy: 0.7174 - val_loss: 0.5877 - val_accuracy: 0.6379\n",
            "Epoch 69/200\n",
            "10/10 - 0s - loss: 0.5586 - accuracy: 0.7217 - val_loss: 0.5854 - val_accuracy: 0.6379\n",
            "Epoch 70/200\n",
            "10/10 - 0s - loss: 0.5569 - accuracy: 0.7283 - val_loss: 0.5857 - val_accuracy: 0.6466\n",
            "Epoch 71/200\n",
            "10/10 - 0s - loss: 0.5554 - accuracy: 0.7217 - val_loss: 0.5869 - val_accuracy: 0.6379\n",
            "Epoch 72/200\n",
            "10/10 - 0s - loss: 0.5548 - accuracy: 0.7152 - val_loss: 0.5883 - val_accuracy: 0.6293\n",
            "Epoch 73/200\n",
            "10/10 - 0s - loss: 0.5529 - accuracy: 0.7152 - val_loss: 0.5828 - val_accuracy: 0.6379\n",
            "Epoch 74/200\n",
            "10/10 - 0s - loss: 0.5509 - accuracy: 0.7348 - val_loss: 0.5693 - val_accuracy: 0.6724\n",
            "Epoch 75/200\n",
            "10/10 - 0s - loss: 0.5511 - accuracy: 0.7457 - val_loss: 0.5688 - val_accuracy: 0.6724\n",
            "Epoch 76/200\n",
            "10/10 - 0s - loss: 0.5473 - accuracy: 0.7391 - val_loss: 0.5753 - val_accuracy: 0.6638\n",
            "Epoch 77/200\n",
            "10/10 - 0s - loss: 0.5470 - accuracy: 0.7261 - val_loss: 0.5786 - val_accuracy: 0.6466\n",
            "Epoch 78/200\n",
            "10/10 - 0s - loss: 0.5458 - accuracy: 0.7370 - val_loss: 0.5662 - val_accuracy: 0.6724\n",
            "Epoch 79/200\n",
            "10/10 - 0s - loss: 0.5437 - accuracy: 0.7522 - val_loss: 0.5654 - val_accuracy: 0.6724\n",
            "Epoch 80/200\n",
            "10/10 - 0s - loss: 0.5418 - accuracy: 0.7435 - val_loss: 0.5697 - val_accuracy: 0.6638\n",
            "Epoch 81/200\n",
            "10/10 - 0s - loss: 0.5406 - accuracy: 0.7370 - val_loss: 0.5678 - val_accuracy: 0.6638\n",
            "Epoch 82/200\n",
            "10/10 - 0s - loss: 0.5398 - accuracy: 0.7435 - val_loss: 0.5607 - val_accuracy: 0.6810\n",
            "Epoch 83/200\n",
            "10/10 - 0s - loss: 0.5380 - accuracy: 0.7543 - val_loss: 0.5602 - val_accuracy: 0.6897\n",
            "Epoch 84/200\n",
            "10/10 - 0s - loss: 0.5367 - accuracy: 0.7565 - val_loss: 0.5608 - val_accuracy: 0.6810\n",
            "Epoch 85/200\n",
            "10/10 - 0s - loss: 0.5350 - accuracy: 0.7587 - val_loss: 0.5582 - val_accuracy: 0.6897\n",
            "Epoch 86/200\n",
            "10/10 - 0s - loss: 0.5332 - accuracy: 0.7587 - val_loss: 0.5592 - val_accuracy: 0.6810\n",
            "Epoch 87/200\n",
            "10/10 - 0s - loss: 0.5318 - accuracy: 0.7478 - val_loss: 0.5614 - val_accuracy: 0.6810\n",
            "Epoch 88/200\n",
            "10/10 - 0s - loss: 0.5308 - accuracy: 0.7457 - val_loss: 0.5583 - val_accuracy: 0.6810\n",
            "Epoch 89/200\n",
            "10/10 - 0s - loss: 0.5286 - accuracy: 0.7543 - val_loss: 0.5527 - val_accuracy: 0.6983\n",
            "Epoch 90/200\n",
            "10/10 - 0s - loss: 0.5287 - accuracy: 0.7630 - val_loss: 0.5508 - val_accuracy: 0.6983\n",
            "Epoch 91/200\n",
            "10/10 - 0s - loss: 0.5274 - accuracy: 0.7543 - val_loss: 0.5538 - val_accuracy: 0.6897\n",
            "Epoch 92/200\n",
            "10/10 - 0s - loss: 0.5254 - accuracy: 0.7587 - val_loss: 0.5521 - val_accuracy: 0.6983\n",
            "Epoch 93/200\n",
            "10/10 - 0s - loss: 0.5247 - accuracy: 0.7630 - val_loss: 0.5491 - val_accuracy: 0.6897\n",
            "Epoch 94/200\n",
            "10/10 - 0s - loss: 0.5237 - accuracy: 0.7609 - val_loss: 0.5521 - val_accuracy: 0.6897\n",
            "Epoch 95/200\n",
            "10/10 - 0s - loss: 0.5218 - accuracy: 0.7630 - val_loss: 0.5482 - val_accuracy: 0.6897\n",
            "Epoch 96/200\n",
            "10/10 - 0s - loss: 0.5210 - accuracy: 0.7609 - val_loss: 0.5498 - val_accuracy: 0.6810\n",
            "Epoch 97/200\n",
            "10/10 - 0s - loss: 0.5194 - accuracy: 0.7609 - val_loss: 0.5482 - val_accuracy: 0.6810\n",
            "Epoch 98/200\n",
            "10/10 - 0s - loss: 0.5182 - accuracy: 0.7652 - val_loss: 0.5468 - val_accuracy: 0.6897\n",
            "Epoch 99/200\n",
            "10/10 - 0s - loss: 0.5172 - accuracy: 0.7630 - val_loss: 0.5443 - val_accuracy: 0.6897\n",
            "Epoch 100/200\n",
            "10/10 - 0s - loss: 0.5160 - accuracy: 0.7696 - val_loss: 0.5425 - val_accuracy: 0.6897\n",
            "Epoch 101/200\n",
            "10/10 - 0s - loss: 0.5157 - accuracy: 0.7652 - val_loss: 0.5496 - val_accuracy: 0.6897\n",
            "Epoch 102/200\n",
            "10/10 - 0s - loss: 0.5143 - accuracy: 0.7674 - val_loss: 0.5416 - val_accuracy: 0.6897\n",
            "Epoch 103/200\n",
            "10/10 - 0s - loss: 0.5127 - accuracy: 0.7652 - val_loss: 0.5406 - val_accuracy: 0.6897\n",
            "Epoch 104/200\n",
            "10/10 - 0s - loss: 0.5114 - accuracy: 0.7696 - val_loss: 0.5370 - val_accuracy: 0.6983\n",
            "Epoch 105/200\n",
            "10/10 - 0s - loss: 0.5111 - accuracy: 0.7674 - val_loss: 0.5374 - val_accuracy: 0.6983\n",
            "Epoch 106/200\n",
            "10/10 - 0s - loss: 0.5095 - accuracy: 0.7696 - val_loss: 0.5398 - val_accuracy: 0.6810\n",
            "Epoch 107/200\n",
            "10/10 - 0s - loss: 0.5091 - accuracy: 0.7717 - val_loss: 0.5463 - val_accuracy: 0.6810\n",
            "Epoch 108/200\n",
            "10/10 - 0s - loss: 0.5088 - accuracy: 0.7609 - val_loss: 0.5452 - val_accuracy: 0.6810\n",
            "Epoch 109/200\n",
            "10/10 - 0s - loss: 0.5088 - accuracy: 0.7609 - val_loss: 0.5309 - val_accuracy: 0.7155\n",
            "Epoch 110/200\n",
            "10/10 - 0s - loss: 0.5069 - accuracy: 0.7652 - val_loss: 0.5351 - val_accuracy: 0.6897\n",
            "Epoch 111/200\n",
            "10/10 - 0s - loss: 0.5076 - accuracy: 0.7630 - val_loss: 0.5295 - val_accuracy: 0.7069\n",
            "Epoch 112/200\n",
            "10/10 - 0s - loss: 0.5027 - accuracy: 0.7674 - val_loss: 0.5400 - val_accuracy: 0.6810\n",
            "Epoch 113/200\n",
            "10/10 - 0s - loss: 0.5027 - accuracy: 0.7696 - val_loss: 0.5433 - val_accuracy: 0.6724\n",
            "Epoch 114/200\n",
            "10/10 - 0s - loss: 0.5016 - accuracy: 0.7739 - val_loss: 0.5362 - val_accuracy: 0.6897\n",
            "Epoch 115/200\n",
            "10/10 - 0s - loss: 0.5004 - accuracy: 0.7717 - val_loss: 0.5336 - val_accuracy: 0.6897\n",
            "Epoch 116/200\n",
            "10/10 - 0s - loss: 0.4997 - accuracy: 0.7739 - val_loss: 0.5308 - val_accuracy: 0.6983\n",
            "Epoch 117/200\n",
            "10/10 - 0s - loss: 0.4990 - accuracy: 0.7739 - val_loss: 0.5332 - val_accuracy: 0.6897\n",
            "Epoch 118/200\n",
            "10/10 - 0s - loss: 0.4978 - accuracy: 0.7739 - val_loss: 0.5349 - val_accuracy: 0.6810\n",
            "Epoch 119/200\n",
            "10/10 - 0s - loss: 0.4976 - accuracy: 0.7761 - val_loss: 0.5305 - val_accuracy: 0.7069\n",
            "Epoch 120/200\n",
            "10/10 - 0s - loss: 0.4964 - accuracy: 0.7783 - val_loss: 0.5303 - val_accuracy: 0.7069\n",
            "Epoch 121/200\n",
            "10/10 - 0s - loss: 0.4952 - accuracy: 0.7739 - val_loss: 0.5299 - val_accuracy: 0.7069\n",
            "Epoch 122/200\n",
            "10/10 - 0s - loss: 0.4942 - accuracy: 0.7717 - val_loss: 0.5303 - val_accuracy: 0.6983\n",
            "Epoch 123/200\n",
            "10/10 - 0s - loss: 0.4944 - accuracy: 0.7761 - val_loss: 0.5344 - val_accuracy: 0.6638\n",
            "Epoch 124/200\n",
            "10/10 - 0s - loss: 0.4924 - accuracy: 0.7761 - val_loss: 0.5295 - val_accuracy: 0.7069\n",
            "Epoch 125/200\n",
            "10/10 - 0s - loss: 0.4927 - accuracy: 0.7761 - val_loss: 0.5256 - val_accuracy: 0.7069\n",
            "Epoch 126/200\n",
            "10/10 - 0s - loss: 0.4913 - accuracy: 0.7804 - val_loss: 0.5305 - val_accuracy: 0.7069\n",
            "Epoch 127/200\n",
            "10/10 - 0s - loss: 0.4902 - accuracy: 0.7761 - val_loss: 0.5311 - val_accuracy: 0.6810\n",
            "Epoch 128/200\n",
            "10/10 - 0s - loss: 0.4900 - accuracy: 0.7739 - val_loss: 0.5257 - val_accuracy: 0.7069\n",
            "Epoch 129/200\n",
            "10/10 - 0s - loss: 0.4903 - accuracy: 0.7783 - val_loss: 0.5245 - val_accuracy: 0.7155\n",
            "Epoch 130/200\n",
            "10/10 - 0s - loss: 0.4886 - accuracy: 0.7826 - val_loss: 0.5316 - val_accuracy: 0.6983\n",
            "Epoch 131/200\n",
            "10/10 - 0s - loss: 0.4875 - accuracy: 0.7783 - val_loss: 0.5342 - val_accuracy: 0.6724\n",
            "Epoch 132/200\n",
            "10/10 - 0s - loss: 0.4870 - accuracy: 0.7717 - val_loss: 0.5387 - val_accuracy: 0.6810\n",
            "Epoch 133/200\n",
            "10/10 - 0s - loss: 0.4868 - accuracy: 0.7717 - val_loss: 0.5312 - val_accuracy: 0.6897\n",
            "Epoch 134/200\n",
            "10/10 - 0s - loss: 0.4853 - accuracy: 0.7826 - val_loss: 0.5288 - val_accuracy: 0.6897\n",
            "Epoch 135/200\n",
            "10/10 - 0s - loss: 0.4847 - accuracy: 0.7804 - val_loss: 0.5343 - val_accuracy: 0.6724\n",
            "Epoch 136/200\n",
            "10/10 - 0s - loss: 0.4839 - accuracy: 0.7804 - val_loss: 0.5297 - val_accuracy: 0.6897\n",
            "Epoch 137/200\n",
            "10/10 - 0s - loss: 0.4837 - accuracy: 0.7761 - val_loss: 0.5259 - val_accuracy: 0.6897\n",
            "Epoch 138/200\n",
            "10/10 - 0s - loss: 0.4837 - accuracy: 0.7761 - val_loss: 0.5240 - val_accuracy: 0.7155\n",
            "Epoch 139/200\n",
            "10/10 - 0s - loss: 0.4831 - accuracy: 0.7804 - val_loss: 0.5278 - val_accuracy: 0.6897\n",
            "Epoch 140/200\n",
            "10/10 - 0s - loss: 0.4826 - accuracy: 0.7783 - val_loss: 0.5337 - val_accuracy: 0.6724\n",
            "Epoch 141/200\n",
            "10/10 - 0s - loss: 0.4810 - accuracy: 0.7739 - val_loss: 0.5306 - val_accuracy: 0.6897\n",
            "Epoch 142/200\n",
            "10/10 - 0s - loss: 0.4802 - accuracy: 0.7826 - val_loss: 0.5282 - val_accuracy: 0.6983\n",
            "Epoch 143/200\n",
            "10/10 - 0s - loss: 0.4795 - accuracy: 0.7848 - val_loss: 0.5336 - val_accuracy: 0.6638\n",
            "Epoch 144/200\n",
            "10/10 - 0s - loss: 0.4800 - accuracy: 0.7848 - val_loss: 0.5294 - val_accuracy: 0.6983\n",
            "Epoch 145/200\n",
            "10/10 - 0s - loss: 0.4786 - accuracy: 0.7826 - val_loss: 0.5337 - val_accuracy: 0.6638\n",
            "Epoch 146/200\n",
            "10/10 - 0s - loss: 0.4778 - accuracy: 0.7848 - val_loss: 0.5280 - val_accuracy: 0.6897\n",
            "Epoch 147/200\n",
            "10/10 - 0s - loss: 0.4771 - accuracy: 0.7848 - val_loss: 0.5242 - val_accuracy: 0.7069\n",
            "Epoch 148/200\n",
            "10/10 - 0s - loss: 0.4778 - accuracy: 0.7783 - val_loss: 0.5231 - val_accuracy: 0.7155\n",
            "Epoch 149/200\n",
            "10/10 - 0s - loss: 0.4768 - accuracy: 0.7739 - val_loss: 0.5267 - val_accuracy: 0.6810\n",
            "Epoch 150/200\n",
            "10/10 - 0s - loss: 0.4756 - accuracy: 0.7848 - val_loss: 0.5294 - val_accuracy: 0.6897\n",
            "Epoch 151/200\n",
            "10/10 - 0s - loss: 0.4762 - accuracy: 0.7848 - val_loss: 0.5313 - val_accuracy: 0.6897\n",
            "Epoch 152/200\n",
            "10/10 - 0s - loss: 0.4743 - accuracy: 0.7870 - val_loss: 0.5280 - val_accuracy: 0.6897\n",
            "Epoch 153/200\n",
            "10/10 - 0s - loss: 0.4761 - accuracy: 0.7739 - val_loss: 0.5216 - val_accuracy: 0.7241\n",
            "Epoch 154/200\n",
            "10/10 - 0s - loss: 0.4737 - accuracy: 0.7783 - val_loss: 0.5272 - val_accuracy: 0.6810\n",
            "Epoch 155/200\n",
            "10/10 - 0s - loss: 0.4727 - accuracy: 0.7848 - val_loss: 0.5280 - val_accuracy: 0.6897\n",
            "Epoch 156/200\n",
            "10/10 - 0s - loss: 0.4722 - accuracy: 0.7848 - val_loss: 0.5262 - val_accuracy: 0.6983\n",
            "Epoch 157/200\n",
            "10/10 - 0s - loss: 0.4722 - accuracy: 0.7739 - val_loss: 0.5230 - val_accuracy: 0.7155\n",
            "Epoch 158/200\n",
            "10/10 - 0s - loss: 0.4730 - accuracy: 0.7783 - val_loss: 0.5244 - val_accuracy: 0.7155\n",
            "Epoch 159/200\n",
            "10/10 - 0s - loss: 0.4697 - accuracy: 0.7870 - val_loss: 0.5328 - val_accuracy: 0.6897\n",
            "Epoch 160/200\n",
            "10/10 - 0s - loss: 0.4712 - accuracy: 0.7804 - val_loss: 0.5384 - val_accuracy: 0.6552\n",
            "Epoch 161/200\n",
            "10/10 - 0s - loss: 0.4716 - accuracy: 0.7804 - val_loss: 0.5370 - val_accuracy: 0.6638\n",
            "Epoch 162/200\n",
            "10/10 - 0s - loss: 0.4704 - accuracy: 0.7804 - val_loss: 0.5336 - val_accuracy: 0.6810\n",
            "Epoch 163/200\n",
            "10/10 - 0s - loss: 0.4691 - accuracy: 0.7891 - val_loss: 0.5280 - val_accuracy: 0.6810\n",
            "Epoch 164/200\n",
            "10/10 - 0s - loss: 0.4684 - accuracy: 0.7848 - val_loss: 0.5308 - val_accuracy: 0.6983\n",
            "Epoch 165/200\n",
            "10/10 - 0s - loss: 0.4690 - accuracy: 0.7870 - val_loss: 0.5325 - val_accuracy: 0.6897\n",
            "Epoch 166/200\n",
            "10/10 - 0s - loss: 0.4690 - accuracy: 0.7848 - val_loss: 0.5265 - val_accuracy: 0.6897\n",
            "Epoch 167/200\n",
            "10/10 - 0s - loss: 0.4676 - accuracy: 0.7848 - val_loss: 0.5299 - val_accuracy: 0.6983\n",
            "Epoch 168/200\n",
            "10/10 - 0s - loss: 0.4674 - accuracy: 0.7848 - val_loss: 0.5273 - val_accuracy: 0.6897\n",
            "Epoch 169/200\n",
            "10/10 - 0s - loss: 0.4668 - accuracy: 0.7870 - val_loss: 0.5292 - val_accuracy: 0.6810\n",
            "Epoch 170/200\n",
            "10/10 - 0s - loss: 0.4662 - accuracy: 0.7826 - val_loss: 0.5304 - val_accuracy: 0.6983\n",
            "Epoch 171/200\n",
            "10/10 - 0s - loss: 0.4669 - accuracy: 0.7848 - val_loss: 0.5261 - val_accuracy: 0.6983\n",
            "Epoch 172/200\n",
            "10/10 - 0s - loss: 0.4665 - accuracy: 0.7761 - val_loss: 0.5271 - val_accuracy: 0.6983\n",
            "Epoch 173/200\n",
            "10/10 - 0s - loss: 0.4658 - accuracy: 0.7848 - val_loss: 0.5308 - val_accuracy: 0.6983\n",
            "Epoch 174/200\n",
            "10/10 - 0s - loss: 0.4653 - accuracy: 0.7870 - val_loss: 0.5316 - val_accuracy: 0.6983\n",
            "Epoch 175/200\n",
            "10/10 - 0s - loss: 0.4655 - accuracy: 0.7891 - val_loss: 0.5371 - val_accuracy: 0.6724\n",
            "Epoch 176/200\n",
            "10/10 - 0s - loss: 0.4654 - accuracy: 0.7913 - val_loss: 0.5260 - val_accuracy: 0.6897\n",
            "Epoch 177/200\n",
            "10/10 - 0s - loss: 0.4651 - accuracy: 0.7783 - val_loss: 0.5254 - val_accuracy: 0.6983\n",
            "Epoch 178/200\n",
            "10/10 - 0s - loss: 0.4644 - accuracy: 0.7783 - val_loss: 0.5263 - val_accuracy: 0.6897\n",
            "Epoch 179/200\n",
            "10/10 - 0s - loss: 0.4634 - accuracy: 0.7848 - val_loss: 0.5284 - val_accuracy: 0.6810\n",
            "Epoch 180/200\n",
            "10/10 - 0s - loss: 0.4649 - accuracy: 0.7891 - val_loss: 0.5341 - val_accuracy: 0.6983\n",
            "Epoch 181/200\n",
            "10/10 - 0s - loss: 0.4629 - accuracy: 0.7913 - val_loss: 0.5286 - val_accuracy: 0.6983\n",
            "Epoch 182/200\n",
            "10/10 - 0s - loss: 0.4628 - accuracy: 0.7826 - val_loss: 0.5301 - val_accuracy: 0.6897\n",
            "Epoch 183/200\n",
            "10/10 - 0s - loss: 0.4625 - accuracy: 0.7870 - val_loss: 0.5291 - val_accuracy: 0.6897\n",
            "Epoch 184/200\n",
            "10/10 - 0s - loss: 0.4617 - accuracy: 0.7848 - val_loss: 0.5346 - val_accuracy: 0.6897\n",
            "Epoch 185/200\n",
            "10/10 - 0s - loss: 0.4627 - accuracy: 0.7891 - val_loss: 0.5377 - val_accuracy: 0.6897\n",
            "Epoch 186/200\n",
            "10/10 - 0s - loss: 0.4611 - accuracy: 0.7870 - val_loss: 0.5321 - val_accuracy: 0.6897\n",
            "Epoch 187/200\n",
            "10/10 - 0s - loss: 0.4615 - accuracy: 0.7826 - val_loss: 0.5282 - val_accuracy: 0.6810\n",
            "Epoch 188/200\n",
            "10/10 - 0s - loss: 0.4613 - accuracy: 0.7804 - val_loss: 0.5313 - val_accuracy: 0.6810\n",
            "Epoch 189/200\n",
            "10/10 - 0s - loss: 0.4613 - accuracy: 0.7848 - val_loss: 0.5374 - val_accuracy: 0.6810\n",
            "Epoch 190/200\n",
            "10/10 - 0s - loss: 0.4620 - accuracy: 0.7913 - val_loss: 0.5399 - val_accuracy: 0.6810\n",
            "Epoch 191/200\n",
            "10/10 - 0s - loss: 0.4599 - accuracy: 0.7891 - val_loss: 0.5328 - val_accuracy: 0.6810\n",
            "Epoch 192/200\n",
            "10/10 - 0s - loss: 0.4612 - accuracy: 0.7804 - val_loss: 0.5283 - val_accuracy: 0.6810\n",
            "Epoch 193/200\n",
            "10/10 - 0s - loss: 0.4599 - accuracy: 0.7761 - val_loss: 0.5365 - val_accuracy: 0.6810\n",
            "Epoch 194/200\n",
            "10/10 - 0s - loss: 0.4594 - accuracy: 0.7870 - val_loss: 0.5362 - val_accuracy: 0.6983\n",
            "Epoch 195/200\n",
            "10/10 - 0s - loss: 0.4585 - accuracy: 0.7848 - val_loss: 0.5338 - val_accuracy: 0.6724\n",
            "Epoch 196/200\n",
            "10/10 - 0s - loss: 0.4589 - accuracy: 0.7848 - val_loss: 0.5354 - val_accuracy: 0.6810\n",
            "Epoch 197/200\n",
            "10/10 - 0s - loss: 0.4583 - accuracy: 0.7870 - val_loss: 0.5413 - val_accuracy: 0.6724\n",
            "Epoch 198/200\n",
            "10/10 - 0s - loss: 0.4586 - accuracy: 0.7891 - val_loss: 0.5382 - val_accuracy: 0.6810\n",
            "Epoch 199/200\n",
            "10/10 - 0s - loss: 0.4579 - accuracy: 0.7826 - val_loss: 0.5373 - val_accuracy: 0.6810\n",
            "Epoch 200/200\n",
            "10/10 - 0s - loss: 0.4575 - accuracy: 0.7826 - val_loss: 0.5387 - val_accuracy: 0.6810\n"
          ],
          "name": "stdout"
        }
      ]
    },
    {
      "cell_type": "code",
      "metadata": {
        "colab": {
          "base_uri": "https://localhost:8080/"
        },
        "id": "x-2XBzaSP46H",
        "outputId": "72cf2c7e-6e5d-4f55-b5ce-384b13f85477"
      },
      "source": [
        "model.evaluate(X_test, y_test)"
      ],
      "execution_count": 20,
      "outputs": [
        {
          "output_type": "stream",
          "text": [
            "6/6 [==============================] - 0s 2ms/step - loss: 0.4399 - accuracy: 0.8021\n"
          ],
          "name": "stdout"
        },
        {
          "output_type": "execute_result",
          "data": {
            "text/plain": [
              "[0.43988943099975586, 0.8020833134651184]"
            ]
          },
          "metadata": {
            "tags": []
          },
          "execution_count": 20
        }
      ]
    },
    {
      "cell_type": "markdown",
      "metadata": {
        "id": "_GgVPBgwQRCI"
      },
      "source": [
        "### 훈련과정 시각화"
      ]
    },
    {
      "cell_type": "code",
      "metadata": {
        "id": "sBesmngMQGEf"
      },
      "source": [
        "import matplotlib.pyplot as plt\n",
        "%matplotlib inline"
      ],
      "execution_count": 21,
      "outputs": []
    },
    {
      "cell_type": "code",
      "metadata": {
        "id": "PtpqcXRCQX7v"
      },
      "source": [
        "y_acc = history.history['accuracy']\n",
        "y_vloss = history.history['val_loss']\n",
        "x_len = np.arange(len(y_acc))"
      ],
      "execution_count": 22,
      "outputs": []
    },
    {
      "cell_type": "code",
      "metadata": {
        "colab": {
          "base_uri": "https://localhost:8080/",
          "height": 483
        },
        "id": "Fd9h3QcPQcnf",
        "outputId": "472eb3a3-6aab-4b1f-a97b-d6537db671ff"
      },
      "source": [
        "plt.figure(figsize=(12,8))\n",
        "plt.plot(x_len, y_acc, 'bo-', markersize=2, label='accuracy')\n",
        "plt.plot(x_len, y_vloss, 'ro-', markersize=2, label='val_loss')\n",
        "plt.legend()\n",
        "plt.show()"
      ],
      "execution_count": 23,
      "outputs": [
        {
          "output_type": "display_data",
          "data": {
            "image/png": "[encoded data removed]",
            "text/plain": [
              "<Figure size 864x576 with 1 Axes>"
            ]
          },
          "metadata": {
            "tags": [],
            "needs_background": "light"
          }
        }
      ]
    },
    {
      "cell_type": "code",
      "metadata": {
        "id": "zyC7tlbEQgFI"
      },
      "source": [
        ""
      ],
      "execution_count": null,
      "outputs": []
    }
  ]
}